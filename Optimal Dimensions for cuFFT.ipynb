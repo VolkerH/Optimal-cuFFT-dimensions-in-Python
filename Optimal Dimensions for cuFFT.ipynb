{
 "cells": [
  {
   "cell_type": "markdown",
   "metadata": {},
   "source": [
    "# About\n",
    "\n",
    "Code snippet for finding closest image dimensions for which cuFFT uses faster Cooley-Tukey implementation (as opposed to Bluestein).\n",
    "See https://docs.nvidia.com/cuda/cufft/index.html\n",
    "\n",
    "Quote from there:\n",
    "_Algorithms highly optimized for input sizes that can be written in the form 2 a × 3 b × 5 c × 7 d . In general the smaller the prime factor, the better the performance, i.e., powers of two are fastest._ "
   ]
  },
  {
   "cell_type": "markdown",
   "metadata": {},
   "source": [
    "#  Implementation"
   ]
  },
  {
   "cell_type": "code",
   "execution_count": 1,
   "metadata": {},
   "outputs": [],
   "source": [
    "from sympy.ntheory import factorint\n",
    "import warnings\n",
    "import numpy as np\n",
    "\n",
    "def is_optimal_for_cuFFT(n: int, allowed_factors) -> bool:\n",
    "    factorization = factorint(n)\n",
    "    if len(factorization) == 0: # factorint(1) returns empyt dict\n",
    "        return False\n",
    "    factors = set(factorization.keys())\n",
    "    return factors.issubset(set(allowed_factors))\n",
    "    \n",
    "def _closest_optimal(n: int, search_next_largest: bool, allowed_factors) -> int:\n",
    "    while(not is_optimal_for_cuFFT(n, allowed_factors) and n>=1):\n",
    "        if search_next_largest:\n",
    "            n += 1\n",
    "        else:\n",
    "            n -= 1\n",
    "    # edge case: decreasing search with start value smaller than allowed factor\n",
    "    if n < min(allowed_factors):\n",
    "        \n",
    "        warnings.warn(f\"{n}One provided dimension is smaller than smallest allowed factor and search direction is decreasing\")\n",
    "        return(min(allowed_factors))\n",
    "    return n\n",
    "\n",
    "def closest_optimal(n, search_next_largest: bool=True, allowed_factors=(2,3,5,7)):\n",
    "    \"\"\" Finds closest optimal array dimensions for cuFFT\n",
    "    \n",
    "    Parameters\n",
    "    ----------\n",
    "    n : iterable of integers\n",
    "        Input dimensions\n",
    "    search_next_largest : bool\n",
    "        if True (default) search closest optimal dimensions that are larger or equal to original\n",
    "        otherwise look for smaller ones. \n",
    "    allowed_factor: tuple of integers\n",
    "        allowed factors in decomposition. Defaults to (2,3,5,7) which are the factors listed in \n",
    "        the cuFFT documentation. \n",
    "    \n",
    "    Returns\n",
    "    -------\n",
    "    np.array of ints\n",
    "        optimal dimensions for cuFFT\n",
    "        \n",
    "        \n",
    "    See also\n",
    "    --------\n",
    "    https://docs.nvidia.com/cuda/cufft/index.html\n",
    "    \n",
    "    \"\"\"\n",
    "    n = np.asarray(n)\n",
    "    scalar_input = False\n",
    "    if n.ndim == 0:\n",
    "        n = n[None] \n",
    "        scalar_input = True\n",
    "    ret = np.array([_closest_optimal(ni, search_next_largest, allowed_factors) for ni in n])\n",
    "    if scalar_input:\n",
    "        return np.squeeze(ret)\n",
    "    return ret"
   ]
  },
  {
   "cell_type": "markdown",
   "metadata": {},
   "source": [
    "# Examples"
   ]
  },
  {
   "cell_type": "code",
   "execution_count": 2,
   "metadata": {},
   "outputs": [
    {
     "data": {
      "text/plain": [
       "array(125)"
      ]
     },
     "execution_count": 2,
     "metadata": {},
     "output_type": "execute_result"
    }
   ],
   "source": [
    "# Simple case, single number\n",
    "closest_optimal(123)"
   ]
  },
  {
   "cell_type": "code",
   "execution_count": 9,
   "metadata": {},
   "outputs": [
    {
     "data": {
      "text/plain": [
       "array(120)"
      ]
     },
     "execution_count": 9,
     "metadata": {},
     "output_type": "execute_result"
    }
   ],
   "source": [
    "# find a smaller optimal dimension\n",
    "closest_optimal(123, search_next_largest=False)"
   ]
  },
  {
   "cell_type": "code",
   "execution_count": 10,
   "metadata": {},
   "outputs": [
    {
     "data": {
      "text/plain": [
       "array(108)"
      ]
     },
     "execution_count": 10,
     "metadata": {},
     "output_type": "execute_result"
    }
   ],
   "source": [
    "# don't allow all factors\n",
    "closest_optimal(123, search_next_largest=False, allowed_factors=(2,3))"
   ]
  },
  {
   "cell_type": "code",
   "execution_count": 11,
   "metadata": {},
   "outputs": [
    {
     "data": {
      "text/plain": [
       "array(64)"
      ]
     },
     "execution_count": 11,
     "metadata": {},
     "output_type": "execute_result"
    }
   ],
   "source": [
    "# only allow a single factor\n",
    "# use a comma to make it a tuple, otherwise it will throw an error!\n",
    "closest_optimal(123, search_next_largest=False, allowed_factors=(2,))"
   ]
  },
  {
   "cell_type": "code",
   "execution_count": 12,
   "metadata": {},
   "outputs": [
    {
     "data": {
      "text/plain": [
       "array([125,  24, 625])"
      ]
     },
     "execution_count": 12,
     "metadata": {},
     "output_type": "execute_result"
    }
   ],
   "source": [
    "# apply to multiple dimensions\n",
    "closest_optimal((123, 23, 615))"
   ]
  },
  {
   "cell_type": "code",
   "execution_count": 13,
   "metadata": {},
   "outputs": [
    {
     "name": "stderr",
     "output_type": "stream",
     "text": [
      "c:\\users\\volker\\anaconda3\\envs\\spimenv\\lib\\site-packages\\ipykernel_launcher.py:21: UserWarning: 0One provided dimension is smaller than smallest allowed factor and search direction is decreasing\n"
     ]
    },
    {
     "data": {
      "text/plain": [
       "array([  2,  21, 600])"
      ]
     },
     "execution_count": 13,
     "metadata": {},
     "output_type": "execute_result"
    }
   ],
   "source": [
    "# edge case, one dimension smaller than smallest factor and decreasing search should generate a warning\n",
    "closest_optimal((1, 23, 615), search_next_largest=False)"
   ]
  },
  {
   "cell_type": "code",
   "execution_count": 14,
   "metadata": {},
   "outputs": [
    {
     "data": {
      "text/plain": [
       "array([  2,  24, 625])"
      ]
     },
     "execution_count": 14,
     "metadata": {},
     "output_type": "execute_result"
    }
   ],
   "source": [
    "# one dimension smaller than smallest factor and increasing search should not generate a warning\n",
    "closest_optimal((1, 23, 615))"
   ]
  },
  {
   "cell_type": "markdown",
   "metadata": {},
   "source": [
    "# Todo\n",
    "\n",
    "* could allow `search_next_largest` to be an iterable of bools, to apply different strategies (rounding up/rounding down) according to dimension.\n",
    "* could remove `sympy`-dependency by implementing recursive modulo tests as in `notGoodDimension` from https://github.com/dmilkie/cudaDecon/blob/master/RL-Biggs-Andrews.cpp. However, I find the explicit factorization more readable than the recursion."
   ]
  }
 ],
 "metadata": {
  "kernelspec": {
   "display_name": "Python 3",
   "language": "python",
   "name": "python3"
  },
  "language_info": {
   "codemirror_mode": {
    "name": "ipython",
    "version": 3
   },
   "file_extension": ".py",
   "mimetype": "text/x-python",
   "name": "python",
   "nbconvert_exporter": "python",
   "pygments_lexer": "ipython3",
   "version": "3.6.6"
  }
 },
 "nbformat": 4,
 "nbformat_minor": 2
}
